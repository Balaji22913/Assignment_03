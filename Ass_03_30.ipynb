{
 "cells": [
  {
   "cell_type": "markdown",
   "id": "2a82f553-cf40-4c64-b394-5aba9d6c6625",
   "metadata": {},
   "source": [
    "Q1. What is Elastic Net Regression and how does it differ from other regression techniques?"
   ]
  },
  {
   "cell_type": "markdown",
   "id": "2986c3ec-f9ee-4872-821a-13487ff552e8",
   "metadata": {},
   "source": [
    "Elastic net linear regression uses the penalties from both the lasso and ridge techniques to regularize regression models. The technique combines both the lasso and ridge regression methods by learning from their shortcomings to improve the regularization of statistical models."
   ]
  },
  {
   "cell_type": "code",
   "execution_count": null,
   "id": "2a292870-d050-489b-9a7e-151469c59748",
   "metadata": {},
   "outputs": [],
   "source": []
  },
  {
   "cell_type": "markdown",
   "id": "21c9082b-cc12-443e-bf65-58c47bab3760",
   "metadata": {},
   "source": [
    "Q2. How do you choose the optimal values of the regularization parameters for Elastic Net Regression?"
   ]
  },
  {
   "cell_type": "code",
   "execution_count": null,
   "id": "70214e33-d8f1-4532-902c-a9694acc0a66",
   "metadata": {},
   "outputs": [],
   "source": []
  },
  {
   "cell_type": "code",
   "execution_count": null,
   "id": "57769972-76d5-4772-a68b-8f33d1a3bc4d",
   "metadata": {},
   "outputs": [],
   "source": []
  },
  {
   "cell_type": "markdown",
   "id": "0768abdd-e8ad-4395-84f1-5e1309e22e35",
   "metadata": {},
   "source": [
    "Q3. What are the advantages and disadvantages of Elastic Net Regression?"
   ]
  },
  {
   "cell_type": "markdown",
   "id": "4a7a4722-7eff-4712-97e1-aba1077a0722",
   "metadata": {},
   "source": [
    "The advantage of the elastic net is that it keeps the feature selection quality from the lasso penalty as well as the effectiveness of the ridge penalty. And it deals with highly correlated variables more effectively."
   ]
  },
  {
   "cell_type": "code",
   "execution_count": null,
   "id": "ab32e740-4412-4efc-999e-e0b2619a30db",
   "metadata": {},
   "outputs": [],
   "source": []
  },
  {
   "cell_type": "markdown",
   "id": "4ac4eaf8-d3b1-45ab-b8de-0ab93084c979",
   "metadata": {},
   "source": [
    "Q4. What are some common use cases for Elastic Net Regression?"
   ]
  },
  {
   "cell_type": "markdown",
   "id": "122304be-4252-46a1-b35c-04596c317718",
   "metadata": {},
   "source": [
    "Cases where we have to do feature selection as well as deal with outliers."
   ]
  },
  {
   "cell_type": "code",
   "execution_count": null,
   "id": "5ca4f1df-e336-4002-b264-91da66bc9af0",
   "metadata": {},
   "outputs": [],
   "source": []
  },
  {
   "cell_type": "markdown",
   "id": "daef2af0-fa2a-403b-b6f6-705dc2cd2070",
   "metadata": {},
   "source": [
    "Q5. How do you interpret the coefficients in Elastic Net Regression?"
   ]
  },
  {
   "cell_type": "markdown",
   "id": "2d6a8566-3227-41d3-b0d3-97df0eafa645",
   "metadata": {},
   "source": [
    "A positive coefficient indicates that as the value of the independent variable increases, the mean of the dependent variable also tends to increase. A negative coefficient suggests that as the independent variable increases, the dependent variable tends to decrease."
   ]
  },
  {
   "cell_type": "code",
   "execution_count": null,
   "id": "38b10db8-bbeb-454f-b4bb-d3c603e2e533",
   "metadata": {},
   "outputs": [],
   "source": []
  },
  {
   "cell_type": "markdown",
   "id": "77e90767-559f-4b9d-8cc0-97ff40b60f76",
   "metadata": {},
   "source": [
    "Q6. How do you handle missing values when using Elastic Net Regression?"
   ]
  },
  {
   "cell_type": "markdown",
   "id": "5b9d4a74-75b4-42d7-a0f1-d3c681dcfedb",
   "metadata": {},
   "source": [
    "taking the average of the column and use that value"
   ]
  },
  {
   "cell_type": "code",
   "execution_count": null,
   "id": "ea0d605f-59f9-4395-9d2c-491c7892a9e6",
   "metadata": {},
   "outputs": [],
   "source": []
  },
  {
   "cell_type": "markdown",
   "id": "85228279-af7b-4b51-8864-05105bbc407d",
   "metadata": {},
   "source": [
    "Q7. How do you use Elastic Net Regression for feature selection?"
   ]
  },
  {
   "cell_type": "markdown",
   "id": "15f21e15-8eab-4749-88c1-b1bbc4300c60",
   "metadata": {},
   "source": [
    "It removes the features with bad corelation and select only the most important features."
   ]
  },
  {
   "cell_type": "code",
   "execution_count": null,
   "id": "13c50284-0ff1-4951-a9d9-8c07ea782cbf",
   "metadata": {},
   "outputs": [],
   "source": []
  },
  {
   "cell_type": "markdown",
   "id": "d5bb1428-242a-43ae-945e-029ace08436f",
   "metadata": {},
   "source": [
    "Q8. How do you pickle and unpickle a trained Elastic Net Regression model in Python?"
   ]
  },
  {
   "cell_type": "markdown",
   "id": "b2292765-7429-4340-a786-2c9532e9e969",
   "metadata": {},
   "source": [
    "To save the ML model using Pickle all we need to do is pass the model object into the dump() function of Pickle. This will serialize the object and convert it into a “byte stream” that we can save as a file called model. pkl ."
   ]
  },
  {
   "cell_type": "code",
   "execution_count": null,
   "id": "7f1a8a06-7600-4a5f-a89a-4c87dc4c6ba1",
   "metadata": {},
   "outputs": [],
   "source": []
  },
  {
   "cell_type": "markdown",
   "id": "63d5ba80-9853-4394-9cde-83abfb670490",
   "metadata": {},
   "source": [
    "Q9. What is the purpose of pickling a model in machine learning?"
   ]
  },
  {
   "cell_type": "markdown",
   "id": "af9f9ac2-c66b-4e2e-80fb-cb060df589d9",
   "metadata": {},
   "source": [
    "The pickle module keeps track of the objects it has already serialized, so that later references to the same object won't be serialized again, thus allowing for faster execution time."
   ]
  },
  {
   "cell_type": "code",
   "execution_count": null,
   "id": "278efe41-a904-4de0-a293-fb9726215f44",
   "metadata": {},
   "outputs": [],
   "source": []
  }
 ],
 "metadata": {
  "kernelspec": {
   "display_name": "Python 3 (ipykernel)",
   "language": "python",
   "name": "python3"
  },
  "language_info": {
   "codemirror_mode": {
    "name": "ipython",
    "version": 3
   },
   "file_extension": ".py",
   "mimetype": "text/x-python",
   "name": "python",
   "nbconvert_exporter": "python",
   "pygments_lexer": "ipython3",
   "version": "3.10.8"
  }
 },
 "nbformat": 4,
 "nbformat_minor": 5
}
