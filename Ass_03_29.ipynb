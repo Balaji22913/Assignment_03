{
 "cells": [
  {
   "cell_type": "markdown",
   "id": "98c71bff-b797-4478-9012-cf2251c13a9e",
   "metadata": {},
   "source": [
    "Q1. What is Lasso Regression, and how does it differ from other regression techniques?"
   ]
  },
  {
   "cell_type": "markdown",
   "id": "1cb144f1-196d-4491-b3a9-9b4b3870296d",
   "metadata": {},
   "source": [
    "Lasso regression is a regularization technique. It is used over regression methods for a more accurate prediction. This model uses shrinkage. Shrinkage is where data values are shrunk towards a central point as the mean."
   ]
  },
  {
   "cell_type": "code",
   "execution_count": null,
   "id": "92a58bfa-dd9f-4b19-b658-99883a1cc142",
   "metadata": {},
   "outputs": [],
   "source": []
  },
  {
   "cell_type": "markdown",
   "id": "ba2f81e6-2e41-45f3-b18b-6cc70e8091ed",
   "metadata": {},
   "source": [
    "Q2. What is the main advantage of using Lasso Regression in feature selection?"
   ]
  },
  {
   "cell_type": "markdown",
   "id": "ac20169e-fbaf-458c-8cdd-da3ef80db4cb",
   "metadata": {},
   "source": [
    "LASSO involves a penalty factor that determines how many features are retained; using cross-validation to choose the penalty factor helps assure that the model will generalize well to future data samples."
   ]
  },
  {
   "cell_type": "markdown",
   "id": "0d293844-f4d4-4e26-a4a3-abaf31d51045",
   "metadata": {},
   "source": []
  },
  {
   "cell_type": "markdown",
   "id": "cf13ecaa-8c16-4ac9-a3b6-d23ec7ad935d",
   "metadata": {},
   "source": [
    "Q3. How do you interpret the coefficients of a Lasso Regression model?"
   ]
  },
  {
   "cell_type": "markdown",
   "id": "99fa8233-3e83-46b5-be9e-aed984010dfa",
   "metadata": {},
   "source": [
    "A positive coefficient indicates that as the value of the independent variable increases, the mean of the dependent variable also tends to increase. A negative coefficient suggests that as the independent variable increases, the dependent variable tends to decrease."
   ]
  },
  {
   "cell_type": "code",
   "execution_count": null,
   "id": "63400f41-fd17-431b-8778-584e4a11af7b",
   "metadata": {},
   "outputs": [],
   "source": []
  },
  {
   "cell_type": "markdown",
   "id": "db84c252-a2e0-4cde-a75f-33370fbfcab4",
   "metadata": {},
   "source": [
    "Q4. What are the tuning parameters that can be adjusted in Lasso Regression, and how do they affect the\n",
    "model's performance?"
   ]
  },
  {
   "cell_type": "markdown",
   "id": "4508c643-6682-44ce-824f-3910beaeadb4",
   "metadata": {},
   "source": [
    "A tuning parameter (λ), sometimes called a penalty parameter, controls the strength of the penalty term in ridge regression and lasso regression. It is basically the amount of shrinkage, where data values are shrunk towards a central point, like the mean."
   ]
  },
  {
   "cell_type": "code",
   "execution_count": null,
   "id": "aaaf8014-eae1-4bcf-b67c-4e259c6bb6a5",
   "metadata": {},
   "outputs": [],
   "source": []
  },
  {
   "cell_type": "markdown",
   "id": "43311091-aa20-4d9f-81f8-4d7716eaf338",
   "metadata": {},
   "source": [
    "Q5. Can Lasso Regression be used for non-linear regression problems? If yes, how?"
   ]
  },
  {
   "cell_type": "markdown",
   "id": "74dac7d1-1c82-47fe-a6a1-43ca6ac58a4a",
   "metadata": {},
   "source": [
    "No"
   ]
  },
  {
   "cell_type": "code",
   "execution_count": null,
   "id": "39f36b04-a031-46c2-96be-405fad26bd64",
   "metadata": {},
   "outputs": [],
   "source": []
  },
  {
   "cell_type": "markdown",
   "id": "20f1233a-2b8e-4f12-a8cf-7e425183afee",
   "metadata": {},
   "source": [
    "Q6. What is the difference between Ridge Regression and Lasso Regression?"
   ]
  },
  {
   "cell_type": "markdown",
   "id": "4b2bc545-fc22-439b-afa3-28d1075b181e",
   "metadata": {},
   "source": [
    "Lasso will eliminate many features, and reduce overfitting in your linear model. Ridge will reduce the impact of features that are not important in predicting your y values."
   ]
  },
  {
   "cell_type": "code",
   "execution_count": null,
   "id": "6a35a054-f223-4312-ab60-4e8c81b14c84",
   "metadata": {},
   "outputs": [],
   "source": []
  },
  {
   "cell_type": "markdown",
   "id": "409253a9-76ee-4f92-871e-d19e57ee60f8",
   "metadata": {},
   "source": [
    "Q7. Can Lasso Regression handle multicollinearity in the input features? If yes, how?"
   ]
  },
  {
   "cell_type": "markdown",
   "id": "9ebb5c45-e90b-498a-9165-8590906a7ec6",
   "metadata": {},
   "source": [
    "Lasso regression is a linear regression technique with L1 prior as a regularize. The idea is to reduce the multicollinearity by regularization by reducing the coefficients of the feature that are multicollinear."
   ]
  },
  {
   "cell_type": "code",
   "execution_count": null,
   "id": "4ef97ea7-4606-4701-a29b-2553ab324e6f",
   "metadata": {},
   "outputs": [],
   "source": []
  },
  {
   "cell_type": "markdown",
   "id": "25150cce-f5b4-479b-9efc-831fc7d9408c",
   "metadata": {},
   "source": [
    "Q8. How do you choose the optimal value of the regularization parameter (lambda) in Lasso Regression?"
   ]
  },
  {
   "cell_type": "markdown",
   "id": "eadb1c5c-32d1-4d4e-be94-0f764cab4057",
   "metadata": {},
   "source": [
    "Selecting a good value for λ is critical. When λ=0, the penalty term has no effect, and ridge regression will produce the classical least square coefficients. However, as λ increases to infinite, the impact of the shrinkage penalty grows, and the ridge regression coefficients will get close zero."
   ]
  },
  {
   "cell_type": "code",
   "execution_count": null,
   "id": "7ca68cce-7c86-408b-b0a1-d6f8b5a0154c",
   "metadata": {},
   "outputs": [],
   "source": []
  }
 ],
 "metadata": {
  "kernelspec": {
   "display_name": "Python 3 (ipykernel)",
   "language": "python",
   "name": "python3"
  },
  "language_info": {
   "codemirror_mode": {
    "name": "ipython",
    "version": 3
   },
   "file_extension": ".py",
   "mimetype": "text/x-python",
   "name": "python",
   "nbconvert_exporter": "python",
   "pygments_lexer": "ipython3",
   "version": "3.10.8"
  }
 },
 "nbformat": 4,
 "nbformat_minor": 5
}
