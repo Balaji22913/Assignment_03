{
 "cells": [
  {
   "cell_type": "markdown",
   "id": "4380121f-7763-492e-8028-e78591df5325",
   "metadata": {},
   "source": [
    "Q1. Explain the difference between simple linear regression and multiple linear regression. Provide an\n",
    "example of each."
   ]
  },
  {
   "cell_type": "markdown",
   "id": "77671b01-edad-4cd9-a6f3-b5ca7a7d415b",
   "metadata": {},
   "source": [
    "Simple linear regression has one independent variable, while multiple linear regression can have two or more independent variables.\n",
    "Example of simple linear regression is number of haors played and pass or fail in exam.            \n",
    "Example of multiple linear regression is room size, house location, locality and house"
   ]
  },
  {
   "cell_type": "code",
   "execution_count": null,
   "id": "73cfd3ba-d54a-4e28-a1d4-bc65b367f3ec",
   "metadata": {},
   "outputs": [],
   "source": []
  },
  {
   "cell_type": "markdown",
   "id": "b021c292-1bfc-4174-b2ef-a5ad9e797403",
   "metadata": {},
   "source": [
    "Q2. Discuss the assumptions of linear regression. How can you check whether these assumptions hold in\n",
    "a given dataset?"
   ]
  },
  {
   "cell_type": "markdown",
   "id": "42c3c962-e3e4-491a-9ca0-da39dadd5a84",
   "metadata": {},
   "source": [
    "1) There is a linear relationship between the independent variable(s) and the dependent variable.       \n",
    "2) Normally distributed      \n",
    "3) The independent variables are all linearly independent "
   ]
  },
  {
   "cell_type": "code",
   "execution_count": null,
   "id": "d8fa71c1-d849-4389-8246-ee6a2a095dca",
   "metadata": {},
   "outputs": [],
   "source": []
  },
  {
   "cell_type": "markdown",
   "id": "9c171f33-78f6-44b5-9200-b7ae2d5a729e",
   "metadata": {},
   "source": [
    "Q3. How do you interpret the slope and intercept in a linear regression model? Provide an example using\n",
    "a real-world scenario."
   ]
  },
  {
   "cell_type": "markdown",
   "id": "b1c560d4-5fe9-4e32-a737-99d63388fdcd",
   "metadata": {},
   "source": [
    "The linear regrssion model makes the line in the form of h(x) = a + bx, where a is the intercept and b is the slope of the line."
   ]
  },
  {
   "cell_type": "markdown",
   "id": "c7768d7a-f92f-4bcd-afbd-fa94188c1ee1",
   "metadata": {},
   "source": [
    "We can use sklearn model and inside it we can use coef_ and intercept_ ."
   ]
  },
  {
   "cell_type": "code",
   "execution_count": null,
   "id": "66358dc5-511a-42fa-a803-000077c6bff0",
   "metadata": {},
   "outputs": [],
   "source": []
  },
  {
   "cell_type": "markdown",
   "id": "f055e030-aa97-45d0-9b53-801f47cf76b9",
   "metadata": {},
   "source": [
    "Q4. Explain the concept of gradient descent. How is it used in machine learning?"
   ]
  },
  {
   "cell_type": "markdown",
   "id": "69bb4944-007c-455c-a42c-3b7ff6f76b3e",
   "metadata": {},
   "source": [
    "We have to decrease the cost function and for that we use gradient descent. Gradient descent is an optimization algorithm which is commonly-used to train machine learning models and neural networks. Training data helps these models learn over time, and the cost function within gradient descent specifically acts as a barometer, gauging its accuracy with each iteration of parameter updates."
   ]
  },
  {
   "cell_type": "code",
   "execution_count": null,
   "id": "3ed25ef4-8b95-4281-b914-7e42ac3e72b9",
   "metadata": {},
   "outputs": [],
   "source": []
  },
  {
   "cell_type": "markdown",
   "id": "7e476353-b801-4a54-a3a6-0b4e9d9875f4",
   "metadata": {},
   "source": [
    "Q5. Describe the multiple linear regression model. How does it differ from simple linear regression?"
   ]
  },
  {
   "cell_type": "markdown",
   "id": "7c77d4df-0b79-476c-9907-16a965028c5e",
   "metadata": {},
   "source": [
    "Multiple regression is a broader class of regressions that encompasses linear and nonlinear regressions with multiple explanatory variables. Whereas linear regress only has one independent variable impacting the slope of the relationship, multiple regression incorporates multiple independent variables."
   ]
  },
  {
   "cell_type": "code",
   "execution_count": null,
   "id": "91ed482e-3f7f-4771-876f-ef7d955af08e",
   "metadata": {},
   "outputs": [],
   "source": []
  },
  {
   "cell_type": "markdown",
   "id": "f229db44-bb51-472a-8c0d-9ab718e7a51e",
   "metadata": {},
   "source": [
    "Q6. Explain the concept of multicollinearity in multiple linear regression. How can you detect and\n",
    "address this issue?"
   ]
  },
  {
   "cell_type": "markdown",
   "id": "ead6cbca-8f97-4045-938d-b3ec2902b910",
   "metadata": {},
   "source": [
    "Multicollinearity occurs when two or more independent variables in a data frame have a high correlation with one another in a regression model. This means that one independent variable can be predicted from another in a regression model. We can deal with it by removing one of the features which have high multicollinearity."
   ]
  },
  {
   "cell_type": "code",
   "execution_count": null,
   "id": "afb2f55f-6129-4ed7-a5c0-5e8a91c7fd46",
   "metadata": {},
   "outputs": [],
   "source": []
  },
  {
   "cell_type": "markdown",
   "id": "3fe3cf1b-eb60-4a8e-9ddd-bdcc02617b33",
   "metadata": {},
   "source": [
    "Q7. Describe the polynomial regression model. How is it different from linear regression?"
   ]
  },
  {
   "cell_type": "markdown",
   "id": "0ca79739-9d86-4f92-a95b-53c610196c0c",
   "metadata": {},
   "source": [
    "Polynomial regression is a form of Linear regression where only due to the Non-linear relationship between dependent and independent variables, we add some polynomial terms to linear regression to convert it into Polynomial regression."
   ]
  },
  {
   "cell_type": "code",
   "execution_count": null,
   "id": "cd9f6173-fc8a-498a-a38a-102a20509041",
   "metadata": {},
   "outputs": [],
   "source": []
  },
  {
   "cell_type": "markdown",
   "id": "de262149-60c8-442e-920b-8a9538d07b02",
   "metadata": {},
   "source": [
    "Q8. What are the advantages and disadvantages of polynomial regression compared to linear\n",
    "regression? In what situations would you prefer to use polynomial regression?"
   ]
  },
  {
   "cell_type": "markdown",
   "id": "bb14844c-dbe6-4226-b2da-49cf3110d5ce",
   "metadata": {},
   "source": [
    "Polynomial regression is a special case of multiple linear regression. The relationship between the independent variable x and dependent variable y is modeled as an nth degree polynomial in x. Linear regression cannot be used to fit non-linear data (underfitting). Therefore, we increase the model’s complexity and use Polynomial regression, which fits such data better."
   ]
  },
  {
   "cell_type": "code",
   "execution_count": null,
   "id": "3b287ed5-a1f6-4efd-a9fc-03ab7c5fc4bb",
   "metadata": {},
   "outputs": [],
   "source": []
  }
 ],
 "metadata": {
  "kernelspec": {
   "display_name": "Python 3 (ipykernel)",
   "language": "python",
   "name": "python3"
  },
  "language_info": {
   "codemirror_mode": {
    "name": "ipython",
    "version": 3
   },
   "file_extension": ".py",
   "mimetype": "text/x-python",
   "name": "python",
   "nbconvert_exporter": "python",
   "pygments_lexer": "ipython3",
   "version": "3.10.8"
  }
 },
 "nbformat": 4,
 "nbformat_minor": 5
}
