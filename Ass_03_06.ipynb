{
 "cells": [
  {
   "cell_type": "markdown",
   "id": "6124cf75-c2ea-439e-a315-a15f35abf33d",
   "metadata": {},
   "source": [
    "Q1. What is Statistics?"
   ]
  },
  {
   "cell_type": "markdown",
   "id": "f7b66faa-4ad6-4954-add7-e2809c2bff08",
   "metadata": {},
   "source": [
    "Statistics is the science concerned with developing and studying methods for collecting, analyzing, interpreting and presenting empirical data."
   ]
  },
  {
   "cell_type": "code",
   "execution_count": null,
   "id": "30efbb8f-6548-4a2a-966e-a9e88eb55d5d",
   "metadata": {},
   "outputs": [],
   "source": []
  },
  {
   "cell_type": "markdown",
   "id": "756dcb12-f7a6-475a-bafc-5fc1b09708c4",
   "metadata": {},
   "source": [
    "Q2. Define the different types of statistics and give an example of when each type might be used."
   ]
  },
  {
   "cell_type": "markdown",
   "id": "f43d900e-b4f1-47b7-8919-c04640dbed03",
   "metadata": {},
   "source": [
    "1. Descriptive Statistics :- It consists of organising and summarizing the data        \n",
    "Example :- mean,median,mode           \n",
    "2. Inferential Statistics :- It cosists of using data we have collected to form conclusions.         \n",
    "Example :- Z-test, T-test"
   ]
  },
  {
   "cell_type": "code",
   "execution_count": null,
   "id": "235a3f70-b95e-4a6f-9ac8-2f9ce8630ba9",
   "metadata": {},
   "outputs": [],
   "source": []
  },
  {
   "cell_type": "markdown",
   "id": "9841fcd8-13e1-4163-8f30-5a2ea963c539",
   "metadata": {},
   "source": [
    "Q3. What are the different types of data and how do they differ from each other? Provide an example of\n",
    "each type of data."
   ]
  },
  {
   "cell_type": "markdown",
   "id": "8b96e66f-6061-4c9c-941e-aae52920af3c",
   "metadata": {},
   "source": [
    "Data is divided into 2 categories which are further divided in 2 more categories.\n",
    "1) Quantitative -> Nemerical          \n",
    "  A)Discrete ---- whole numbers , ex-- number of perple              \n",
    "  B)Continuous --- Any numerical value , ex-- weight, height              \n",
    "\n",
    "2) Qualitative -> Caterogical data              \n",
    "  A)Normal --- No ranking , ex-- Gender              \n",
    "  B)Ordinal --- Ranking , ex-- Feedback  "
   ]
  },
  {
   "cell_type": "code",
   "execution_count": null,
   "id": "0b7ce996-8e8d-4037-b87e-b131115aa51b",
   "metadata": {},
   "outputs": [],
   "source": []
  },
  {
   "cell_type": "markdown",
   "id": "8b187206-07e2-4438-afa0-81d377534361",
   "metadata": {},
   "source": [
    "Q4. Categorise the following datasets with respect to quantitative and qualitative data types:         \n",
    "(i) Grading in exam: A+, A, B+, B, C+, C, D, E          \n",
    "(ii) Colour of mangoes: yellow, green, orange, red            \n",
    "(iii) Height data of a class: [178.9, 179, 179.5, 176, 177.2, 178.3, 175.8,...]          \n",
    "(iv) Number of mangoes exported by a farm: [500, 600, 478, 672, ...]"
   ]
  },
  {
   "cell_type": "markdown",
   "id": "f73d9231-7690-4f08-a6e7-61aebf2415c8",
   "metadata": {},
   "source": [
    "1) qualitative      \n",
    "2) qualitative        \n",
    "3) quantitative     \n",
    "4) quantitative"
   ]
  },
  {
   "cell_type": "code",
   "execution_count": null,
   "id": "df3f0520-5f5a-43ac-9dc7-4d68efc0e173",
   "metadata": {},
   "outputs": [],
   "source": []
  },
  {
   "cell_type": "markdown",
   "id": "3a5d45a9-d8a3-45a4-8cbf-577bcea4afa0",
   "metadata": {},
   "source": [
    "Q5. Explain the concept of levels of measurement and give an example of a variable for each level."
   ]
  },
  {
   "cell_type": "markdown",
   "id": "d9516830-3988-4796-a1bd-c8be79dc1ba0",
   "metadata": {},
   "source": [
    "There are 4 level of measurement:-\n",
    "\n",
    "1) Normal Scale Data:                \n",
    "Categorical, order doesen't matter          \n",
    "Example --- Male and Female            \n",
    "      \n",
    "2) Ordinal Scale Date:        \n",
    "Order is important, difference can't be measured        \n",
    "Example --- Feedback (Good, Better, Best)         \n",
    "         \n",
    "3) Interval Scale Data:       \n",
    "Order is important, difference can be measured, ratio can't be measured, No true zero starting point          \n",
    "Example --- Temperature          \n",
    "\n",
    "4) Ratio Scale Data:           \n",
    "Order is important, difference can be measured, true zero starting point        \n",
    "Example --- Marks scored in exam"
   ]
  },
  {
   "cell_type": "code",
   "execution_count": null,
   "id": "7922c156-8d1a-4617-a229-6a25de66471f",
   "metadata": {},
   "outputs": [],
   "source": []
  },
  {
   "cell_type": "markdown",
   "id": "d56da1f2-a72f-4e75-a66c-b58dbcd13bbb",
   "metadata": {},
   "source": [
    "Q6. Why is it important to understand the level of measurement when analyzing data? Provide an\n",
    "example to illustrate your answer."
   ]
  },
  {
   "cell_type": "markdown",
   "id": "c770b386-7c58-4359-8bcc-3dba7f66eb7e",
   "metadata": {},
   "source": [
    "It is important to understand the level of measurement of variables in research, because the level of measurement determines the type of statistical analysis that can be conducted, and, therefore, the type of conclusions that can be drawn from the research."
   ]
  },
  {
   "cell_type": "markdown",
   "id": "a5a23e44-0763-4c08-975d-ab6f2dafe1f5",
   "metadata": {},
   "source": []
  },
  {
   "cell_type": "markdown",
   "id": "9be37ced-c0ca-4a2d-9e3a-6c9cdc2476f5",
   "metadata": {},
   "source": [
    "Q7. How nominal data type is different from ordinal data type."
   ]
  },
  {
   "cell_type": "markdown",
   "id": "ceb45e7a-73c2-4de8-a331-be02201b76ca",
   "metadata": {},
   "source": [
    "Nominal data are those items which are distinguished by a simple naming system. They are data with no numeric value, such as profession. The nominal data just name a thing without applying it to an order related to other numbered items.           \n",
    "\n",
    "Ordinal data is data which is placed into some kind of order by their position on the scale. For example, they may indicate superiority. However, you cannot do arithmetic with ordinal numbers because they only show sequence.\n",
    "\n"
   ]
  },
  {
   "cell_type": "code",
   "execution_count": null,
   "id": "88f63f72-4924-400d-aa07-4c4cf836eb51",
   "metadata": {},
   "outputs": [],
   "source": []
  },
  {
   "cell_type": "markdown",
   "id": "3ccbb94d-cea3-49e9-a612-8eac3cdec1c6",
   "metadata": {},
   "source": [
    "Q8. Which type of plot can be used to display data in terms of range?"
   ]
  },
  {
   "cell_type": "markdown",
   "id": "c22fe7c0-44b8-4a58-98b8-e19f7709e215",
   "metadata": {},
   "source": [
    "Gausian Curve"
   ]
  },
  {
   "cell_type": "code",
   "execution_count": null,
   "id": "7b91c4f2-239c-4df5-bcfd-4747118d9edb",
   "metadata": {},
   "outputs": [],
   "source": []
  },
  {
   "cell_type": "markdown",
   "id": "38b194db-9eaf-4867-9552-c92037114ebd",
   "metadata": {},
   "source": [
    "Q9. Describe the difference between descriptive and inferential statistics. Give an example of each\n",
    "type of statistics and explain how they are used."
   ]
  },
  {
   "cell_type": "markdown",
   "id": "5053914e-1b0c-4c1b-9aac-fa9b74b27599",
   "metadata": {},
   "source": [
    "1. Descriptive Statistics :- It consists of organising and summarizing the data        \n",
    "Example :- mean,median,mode           \n",
    "2. Inferential Statistics :- It cosists of using data we have collected to form conclusions.         \n",
    "Example :- Z-test, T-test"
   ]
  },
  {
   "cell_type": "code",
   "execution_count": null,
   "id": "465a3b00-df29-4c79-b22a-8698afba0813",
   "metadata": {},
   "outputs": [],
   "source": []
  },
  {
   "cell_type": "markdown",
   "id": "6be767dc-63c3-4e0e-88a3-c8c6232006ba",
   "metadata": {},
   "source": [
    "Q10. What are some common measures of central tendency and variability used in statistics? Explain\n",
    "how each measure can be used to describe a dataset."
   ]
  },
  {
   "cell_type": "markdown",
   "id": "a466e4b3-734e-49cd-b425-0e6eb118b95b",
   "metadata": {},
   "source": [
    "1) Mean:-\n",
    "It is the average of all the values\n",
    "\n",
    "2) Median :-\n",
    "Middle most element in sorted list\n",
    "\n",
    "3) Mode :-\n",
    "Element with highest frequency"
   ]
  },
  {
   "cell_type": "code",
   "execution_count": null,
   "id": "29a31745-dc46-4b3f-9003-4c8a61801228",
   "metadata": {},
   "outputs": [],
   "source": []
  }
 ],
 "metadata": {
  "kernelspec": {
   "display_name": "Python 3 (ipykernel)",
   "language": "python",
   "name": "python3"
  },
  "language_info": {
   "codemirror_mode": {
    "name": "ipython",
    "version": 3
   },
   "file_extension": ".py",
   "mimetype": "text/x-python",
   "name": "python",
   "nbconvert_exporter": "python",
   "pygments_lexer": "ipython3",
   "version": "3.10.8"
  }
 },
 "nbformat": 4,
 "nbformat_minor": 5
}
