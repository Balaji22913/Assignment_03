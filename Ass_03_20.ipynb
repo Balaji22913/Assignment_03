{
 "cells": [
  {
   "cell_type": "markdown",
   "id": "90b2227d-1ddc-4408-bc63-eeb0317a2cf1",
   "metadata": {},
   "source": [
    "Q1. What is data encoding? How is it useful in data science?"
   ]
  },
  {
   "cell_type": "markdown",
   "id": "0bbecb5e-a00b-46fb-9a64-4c5311167d24",
   "metadata": {},
   "source": [
    "Encoding is the transformation of categorical variables to binary or numerical counterparts.     \n",
    "Machine learning models can only work with numerical values. For this reason, it is necessary to transform the categorical values of the relevant features into numerical ones."
   ]
  },
  {
   "cell_type": "code",
   "execution_count": null,
   "id": "a8a18b91-dfb6-4b55-8292-0121e0cb165f",
   "metadata": {},
   "outputs": [],
   "source": []
  },
  {
   "cell_type": "markdown",
   "id": "4273fa8a-c63b-46b2-96ea-3e58d85314a2",
   "metadata": {},
   "source": [
    "Q2. What is nominal encoding? Provide an example of how you would use it in a real-world scenario."
   ]
  },
  {
   "cell_type": "markdown",
   "id": "389ce6d3-5776-4259-9608-27b22e64740d",
   "metadata": {},
   "source": [
    "When we have a feature where variables are just names and there is no order or rank to this variable's feature. For example: City of person lives in, Gender of person, etc."
   ]
  },
  {
   "cell_type": "code",
   "execution_count": 1,
   "id": "3cf09447-4cf8-4f4d-844f-52946638406a",
   "metadata": {},
   "outputs": [],
   "source": [
    "#Example\n",
    "import pandas as pd"
   ]
  },
  {
   "cell_type": "code",
   "execution_count": 10,
   "id": "1fe0f76b-6174-4409-8234-92f87f5fc129",
   "metadata": {},
   "outputs": [],
   "source": [
    "df = pd.DataFrame({'city':['a','b','c','a','c','b','c','b']})"
   ]
  },
  {
   "cell_type": "code",
   "execution_count": 3,
   "id": "aea7eaa5-193a-44df-a736-d2093b57039c",
   "metadata": {},
   "outputs": [],
   "source": [
    "from sklearn.preprocessing import OneHotEncoder"
   ]
  },
  {
   "cell_type": "code",
   "execution_count": 4,
   "id": "d05a65a4-6aad-4837-a9e9-2882580886ed",
   "metadata": {},
   "outputs": [],
   "source": [
    "encoder = OneHotEncoder()"
   ]
  },
  {
   "cell_type": "code",
   "execution_count": 6,
   "id": "24d2c464-c34b-45e8-bc96-c5b49b1331aa",
   "metadata": {},
   "outputs": [],
   "source": [
    "encoded = encoder.fit_transform(df[['city']])"
   ]
  },
  {
   "cell_type": "code",
   "execution_count": 8,
   "id": "dd3c2fc1-b723-4b84-9dcc-9e5756b635ce",
   "metadata": {},
   "outputs": [],
   "source": [
    "df1 = pd.DataFrame(encoded.toarray(), columns= encoder.get_feature_names_out())"
   ]
  },
  {
   "cell_type": "code",
   "execution_count": 9,
   "id": "3e21bbbf-2de2-48dc-a917-bea9e06953b1",
   "metadata": {},
   "outputs": [
    {
     "data": {
      "text/html": [
       "<div>\n",
       "<style scoped>\n",
       "    .dataframe tbody tr th:only-of-type {\n",
       "        vertical-align: middle;\n",
       "    }\n",
       "\n",
       "    .dataframe tbody tr th {\n",
       "        vertical-align: top;\n",
       "    }\n",
       "\n",
       "    .dataframe thead th {\n",
       "        text-align: right;\n",
       "    }\n",
       "</style>\n",
       "<table border=\"1\" class=\"dataframe\">\n",
       "  <thead>\n",
       "    <tr style=\"text-align: right;\">\n",
       "      <th></th>\n",
       "      <th>city</th>\n",
       "      <th>city_a</th>\n",
       "      <th>city_b</th>\n",
       "      <th>city_c</th>\n",
       "    </tr>\n",
       "  </thead>\n",
       "  <tbody>\n",
       "    <tr>\n",
       "      <th>0</th>\n",
       "      <td>a</td>\n",
       "      <td>1.0</td>\n",
       "      <td>0.0</td>\n",
       "      <td>0.0</td>\n",
       "    </tr>\n",
       "    <tr>\n",
       "      <th>1</th>\n",
       "      <td>b</td>\n",
       "      <td>0.0</td>\n",
       "      <td>1.0</td>\n",
       "      <td>0.0</td>\n",
       "    </tr>\n",
       "    <tr>\n",
       "      <th>2</th>\n",
       "      <td>c</td>\n",
       "      <td>0.0</td>\n",
       "      <td>0.0</td>\n",
       "      <td>1.0</td>\n",
       "    </tr>\n",
       "    <tr>\n",
       "      <th>3</th>\n",
       "      <td>a</td>\n",
       "      <td>1.0</td>\n",
       "      <td>0.0</td>\n",
       "      <td>0.0</td>\n",
       "    </tr>\n",
       "    <tr>\n",
       "      <th>4</th>\n",
       "      <td>c</td>\n",
       "      <td>0.0</td>\n",
       "      <td>0.0</td>\n",
       "      <td>1.0</td>\n",
       "    </tr>\n",
       "    <tr>\n",
       "      <th>5</th>\n",
       "      <td>b</td>\n",
       "      <td>0.0</td>\n",
       "      <td>1.0</td>\n",
       "      <td>0.0</td>\n",
       "    </tr>\n",
       "    <tr>\n",
       "      <th>6</th>\n",
       "      <td>c</td>\n",
       "      <td>0.0</td>\n",
       "      <td>0.0</td>\n",
       "      <td>1.0</td>\n",
       "    </tr>\n",
       "    <tr>\n",
       "      <th>7</th>\n",
       "      <td>b</td>\n",
       "      <td>0.0</td>\n",
       "      <td>1.0</td>\n",
       "      <td>0.0</td>\n",
       "    </tr>\n",
       "  </tbody>\n",
       "</table>\n",
       "</div>"
      ],
      "text/plain": [
       "  city  city_a  city_b  city_c\n",
       "0    a     1.0     0.0     0.0\n",
       "1    b     0.0     1.0     0.0\n",
       "2    c     0.0     0.0     1.0\n",
       "3    a     1.0     0.0     0.0\n",
       "4    c     0.0     0.0     1.0\n",
       "5    b     0.0     1.0     0.0\n",
       "6    c     0.0     0.0     1.0\n",
       "7    b     0.0     1.0     0.0"
      ]
     },
     "execution_count": 9,
     "metadata": {},
     "output_type": "execute_result"
    }
   ],
   "source": [
    "pd.concat([df,df1],axis = 1)"
   ]
  },
  {
   "cell_type": "code",
   "execution_count": null,
   "id": "55ba3489-2674-4a59-956c-8e2e3d9405c1",
   "metadata": {},
   "outputs": [],
   "source": []
  },
  {
   "cell_type": "markdown",
   "id": "9a010531-ebfc-4a5f-a1f5-ff8d1fa9f8fd",
   "metadata": {},
   "source": [
    "Q3. In what situations is nominal encoding preferred over one-hot encoding? Provide a practical example."
   ]
  },
  {
   "cell_type": "markdown",
   "id": "69aca582-0dfd-4f0f-80ae-4480038215ee",
   "metadata": {},
   "source": [
    "It must me avoided when there is too many categorical data which will introduce many features which can cause overfitting.\n",
    "For example, in case if Surname of students in a school."
   ]
  },
  {
   "cell_type": "code",
   "execution_count": null,
   "id": "4b7954af-cda6-4f65-be61-38aa6ce23c9f",
   "metadata": {},
   "outputs": [],
   "source": []
  },
  {
   "cell_type": "markdown",
   "id": "30dbcfe0-928d-4bfa-af69-e76a6c81c11f",
   "metadata": {},
   "source": [
    "Q4. Suppose you have a dataset containing categorical data with 5 unique values. Which encoding\n",
    "technique would you use to transform this data into a format suitable for machine learning algorithms?\n",
    "Explain why you made this choice."
   ]
  },
  {
   "cell_type": "markdown",
   "id": "434db767-e429-4d67-abf1-5a936fc6ff85",
   "metadata": {},
   "source": [
    "We can use One Hot Encodeing Technique as only 5 new features will me made so it will not be a problem "
   ]
  },
  {
   "cell_type": "code",
   "execution_count": null,
   "id": "2f1f784a-b671-4cc5-a676-21290012ed88",
   "metadata": {},
   "outputs": [],
   "source": []
  },
  {
   "cell_type": "markdown",
   "id": "63153152-bd8e-46e6-ae81-ffb3c23e6003",
   "metadata": {},
   "source": [
    "Q5. In a machine learning project, you have a dataset with 1000 rows and 5 columns. Two of the columns\n",
    "are categorical, and the remaining three columns are numerical. If you were to use nominal encoding to\n",
    "transform the categorical data, how many new columns would be created? Show your calculations."
   ]
  },
  {
   "cell_type": "markdown",
   "id": "e27a8aaf-3aea-4235-8c33-7df6a7ebba5d",
   "metadata": {},
   "source": [
    "As each data in each categorical column will form one feature,so we will get a total of 100*2 new columns, that is 200"
   ]
  },
  {
   "cell_type": "code",
   "execution_count": null,
   "id": "721ea9db-10d0-44dd-b548-8b3717726e0b",
   "metadata": {},
   "outputs": [],
   "source": []
  },
  {
   "cell_type": "markdown",
   "id": "94bb498d-45bc-48de-9cba-603e536a587d",
   "metadata": {},
   "source": [
    "Q6. You are working with a dataset containing information about different types of animals, including their\n",
    "species, habitat, and diet. Which encoding technique would you use to transform the categorical data into\n",
    "a format suitable for machine learning algorithms? Justify your answer."
   ]
  },
  {
   "cell_type": "markdown",
   "id": "f40203ee-e373-475c-ae32-7e27a90ffaf9",
   "metadata": {},
   "source": [
    "We can use one hot encoding or lable encoding as there will be no ranking and these caterogical data can be converted into numerical data"
   ]
  },
  {
   "cell_type": "code",
   "execution_count": null,
   "id": "5c06b65f-ba31-4091-9483-7c7d3ba0ee5b",
   "metadata": {},
   "outputs": [],
   "source": []
  },
  {
   "cell_type": "markdown",
   "id": "c17002a4-8757-4278-ba4b-32bb9f8e2fcf",
   "metadata": {},
   "source": [
    "Q7.You are working on a project that involves predicting customer churn for a telecommunications\n",
    "company. You have a dataset with 5 features, including the customer's gender, age, contract type,\n",
    "monthly charges, and tenure. Which encoding technique(s) would you use to transform the categorical\n",
    "data into numerical data? Provide a step-by-step explanation of how you would implement the encoding."
   ]
  },
  {
   "cell_type": "markdown",
   "id": "890ad75a-3998-4479-a061-fa4b00d53edc",
   "metadata": {},
   "source": [
    "We will use Target Guided Ordinal Encoding in this case. As only gender and contract type are categorical data"
   ]
  },
  {
   "cell_type": "markdown",
   "id": "68bf0cd9-b1a6-4960-9832-40c8eb25bb97",
   "metadata": {},
   "source": [
    "1) We will calculate mean of each type of categorical data     \n",
    "2) We will replace the data with the mean calculated"
   ]
  },
  {
   "cell_type": "code",
   "execution_count": null,
   "id": "cc919cb6-81b2-4480-b0c2-74391351f7e3",
   "metadata": {},
   "outputs": [],
   "source": []
  }
 ],
 "metadata": {
  "kernelspec": {
   "display_name": "Python 3 (ipykernel)",
   "language": "python",
   "name": "python3"
  },
  "language_info": {
   "codemirror_mode": {
    "name": "ipython",
    "version": 3
   },
   "file_extension": ".py",
   "mimetype": "text/x-python",
   "name": "python",
   "nbconvert_exporter": "python",
   "pygments_lexer": "ipython3",
   "version": "3.10.8"
  }
 },
 "nbformat": 4,
 "nbformat_minor": 5
}
