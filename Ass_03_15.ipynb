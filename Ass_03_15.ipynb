{
 "cells": [
  {
   "cell_type": "markdown",
   "id": "b7dc71fc-aaee-4d11-9c36-1550717f511a",
   "metadata": {},
   "source": [
    "Q1- Explain the following with an example-\n",
    "1) Artificial Intelligence\n",
    "2) Machinne Learning,\n",
    "3) Deep Learning"
   ]
  },
  {
   "cell_type": "markdown",
   "id": "ec2066b3-d3e7-45b1-98e4-1ca536e94918",
   "metadata": {},
   "source": [
    "1) artificial intelligence (AI), the ability of a digital computer or computer-controlled robot to perform tasks commonly associated with intelligent beings.    \n",
    "\n",
    "2) Machine learning is a branch of artificial intelligence (AI) and computer science which focuses on the use of data and algorithms to imitate the way that humans learn, gradually improving its accuracy.     \n",
    "\n",
    "3) Deep learning is a subset of machine learning, which is essentially a neural network with three or more layers. These neural networks attempt to simulate the behavior of the human brain—albeit far from matching its ability—allowing it to \"learn\" from large amounts of data."
   ]
  },
  {
   "cell_type": "code",
   "execution_count": null,
   "id": "7d5cd1f4-9753-4389-bd47-6d46eab519f6",
   "metadata": {},
   "outputs": [],
   "source": []
  },
  {
   "cell_type": "markdown",
   "id": "d05a2b47-8c49-4805-a060-813e9dc1bfab",
   "metadata": {},
   "source": [
    "Q2)"
   ]
  },
  {
   "cell_type": "markdown",
   "id": "00164e01-b891-4ed6-968e-06ce350708e2",
   "metadata": {},
   "source": [
    "Supervised learning is a machine learning approach that’s defined by its use of labeled datasets. These datasets are designed to train or “supervise” algorithms into classifying data or predicting outcomes accurately. Using labeled inputs and outputs, the model can measure its accuracy and learn over time."
   ]
  },
  {
   "cell_type": "markdown",
   "id": "504e536a-e1fa-4675-98d9-2ad4337f7e5d",
   "metadata": {},
   "source": [
    "Classification problems use an algorithm to accurately assign test data into specific categories, such as separating apples from oranges. Or, in the real world, supervised learning algorithms can be used to classify spam in a separate folder from your inbox. Linear classifiers, support vector machines, decision trees and random forest are all common types of classification algorithms.     \n",
    "\n",
    "\n",
    "Regression is another type of supervised learning method that uses an algorithm to understand the relationship between dependent and independent variables. Regression models are helpful for predicting numerical values based on different data points, such as sales revenue projections for a given business. Some popular regression algorithms are linear regression, logistic regression and polynomial regression."
   ]
  },
  {
   "cell_type": "code",
   "execution_count": null,
   "id": "617f619c-37a1-40a8-86d1-786ad3f34264",
   "metadata": {},
   "outputs": [],
   "source": []
  },
  {
   "cell_type": "markdown",
   "id": "26e880ca-a6c9-4fb1-8605-3582f4e4d626",
   "metadata": {},
   "source": [
    "Q3)"
   ]
  },
  {
   "cell_type": "markdown",
   "id": "00498086-4341-4680-bb27-fb70271b9150",
   "metadata": {},
   "source": [
    "Unsupervised learning uses machine learning algorithms to analyze and cluster unlabeled data sets. These algorithms discover hidden patterns in data without the need for human intervention (hence, they are “unsupervised”)."
   ]
  },
  {
   "cell_type": "markdown",
   "id": "1ce98151-8052-4f53-9bd1-71ae8aa54b8f",
   "metadata": {},
   "source": [
    "Clustering is a data mining technique for grouping unlabeled data based on their similarities or differences. For example, K-means clustering algorithms assign similar data points into groups, where the K value represents the size of the grouping and granularity. This technique is helpful for market segmentation, image compression, etc.            \n",
    "\n",
    "Association is another type of unsupervised learning method that uses different rules to find relationships between variables in a given dataset. These methods are frequently used for market basket analysis and recommendation engines, along the lines of “Customers Who Bought This Item Also Bought” recommendations.           \n",
    "\n",
    "Dimensionality reduction is a learning technique used when the number of features  (or dimensions) in a given dataset is too high. It reduces the number of data inputs to a manageable size while also preserving the data integrity. Often, this technique is used in the preprocessing data stage, such as when autoencoders remove noise from visual data to improve picture quality."
   ]
  },
  {
   "cell_type": "code",
   "execution_count": null,
   "id": "7b1a8f37-7eca-4a6e-9861-068728dd8174",
   "metadata": {},
   "outputs": [],
   "source": []
  },
  {
   "cell_type": "markdown",
   "id": "2048ed30-6fef-4457-a026-91e0515647e0",
   "metadata": {},
   "source": [
    "Q4)"
   ]
  },
  {
   "cell_type": "markdown",
   "id": "0d590caa-3914-45c5-be7f-f31fc6f7d7c7",
   "metadata": {},
   "source": [
    " AI is the broader field of developing intelligent machines, ML is a subset of AI that involves training algorithms to learn from data, DL is a subset of ML that uses ANNs to model complex patterns in data, and DS is an interdisciplinary field that involves extracting insights from data."
   ]
  },
  {
   "cell_type": "code",
   "execution_count": null,
   "id": "b8af51ca-1d46-442d-9fae-c7b37a9a7765",
   "metadata": {},
   "outputs": [],
   "source": []
  },
  {
   "cell_type": "markdown",
   "id": "6a755769-97b5-4afb-9da0-e8753df59962",
   "metadata": {},
   "source": [
    "Q5)"
   ]
  },
  {
   "cell_type": "markdown",
   "id": "0c902d07-81c1-4dc5-81ed-86ce61281676",
   "metadata": {},
   "source": [
    "Supervised Learning:-      \n",
    "Input data is labeled.     \n",
    "Used for prediction and classification models.    \n",
    "It takes direct feedback of the output.    \n",
    "These models predict the output.   \n",
    "It can be used in cases where we know the input and their respective outputs.    \n",
    "\n",
    "Semi-Supervised learning:-         \n",
    "A large amount of input data is unlabeled while a small amount is labeled.     \n",
    "It is used when labeling the whole dataset is expensive.    \n",
    "It is a type of weak supervision.     \n",
    "\n",
    "Unsupervised learning:-     \n",
    "Input data is unlabeled.    \n",
    "Used for extracting information from large amounts of data.   \n",
    "Does not have a feedback mechanism.    \n",
    "These models find underlying patterns in data.    "
   ]
  },
  {
   "cell_type": "code",
   "execution_count": null,
   "id": "b24dc7b9-955e-497e-a616-8003963cf43c",
   "metadata": {},
   "outputs": [],
   "source": []
  },
  {
   "cell_type": "markdown",
   "id": "19e190fc-c3e8-40e8-acdd-e62cab351650",
   "metadata": {},
   "source": [
    "Q6)"
   ]
  },
  {
   "cell_type": "markdown",
   "id": "cbcb219b-c868-4e33-9748-216eaf79a48b",
   "metadata": {},
   "source": [
    "Train split is the set of data that is used to train and make the model learn the hidden features/patterns in the data.    \n",
    "The validation set is a set of data, separate from the training set, that is used to validate our model performance during training.    \n",
    "The test set is a separate set of data used to test the model after completing the training."
   ]
  },
  {
   "cell_type": "code",
   "execution_count": null,
   "id": "15e6fee8-38cb-4151-a4ef-6898d8d94a04",
   "metadata": {},
   "outputs": [],
   "source": []
  },
  {
   "cell_type": "markdown",
   "id": "bb4d4e43-5504-42d1-9c2d-53238bfb2239",
   "metadata": {},
   "source": [
    "Q7)"
   ]
  },
  {
   "cell_type": "markdown",
   "id": "4c2b90aa-a1c2-4d14-bb89-de9266b7fc1d",
   "metadata": {},
   "source": [
    "Anomaly detection techniques of unsupervised nature assume that normal data points occur considerably more frequently than anomalous data points. This assumption is used to classify data points that occur less frequently as anomalies. Unsupervised techniques assign each data point a score instead of a label."
   ]
  },
  {
   "cell_type": "code",
   "execution_count": null,
   "id": "1d17161f-3b11-45f5-85ca-209c8274e3f7",
   "metadata": {},
   "outputs": [],
   "source": []
  },
  {
   "cell_type": "markdown",
   "id": "f50a5d01-b2ab-4690-8587-0aca5f1ce927",
   "metadata": {},
   "source": [
    "Q8)"
   ]
  },
  {
   "cell_type": "markdown",
   "id": "490da837-983d-430f-aec3-d198f6ad35c3",
   "metadata": {},
   "source": [
    "The most commonly used Supervised Learning algorithms are decision tree, logistic regression, linear regression, support vector machine. The most commonly used Unsupervised Learning algorithms are k-means clustering, hierarchical clustering, and apriori algorithm."
   ]
  },
  {
   "cell_type": "code",
   "execution_count": null,
   "id": "bd3d2d76-f4fa-4ad9-8ba2-8e8ce0df4a71",
   "metadata": {},
   "outputs": [],
   "source": []
  }
 ],
 "metadata": {
  "kernelspec": {
   "display_name": "Python 3 (ipykernel)",
   "language": "python",
   "name": "python3"
  },
  "language_info": {
   "codemirror_mode": {
    "name": "ipython",
    "version": 3
   },
   "file_extension": ".py",
   "mimetype": "text/x-python",
   "name": "python",
   "nbconvert_exporter": "python",
   "pygments_lexer": "ipython3",
   "version": "3.10.8"
  }
 },
 "nbformat": 4,
 "nbformat_minor": 5
}
