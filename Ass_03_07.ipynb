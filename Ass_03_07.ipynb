{
 "cells": [
  {
   "cell_type": "markdown",
   "id": "f502d49d-988b-4308-9f6e-b1f62afbb705",
   "metadata": {},
   "source": [
    "Q1. What are the three measures of central tendency?"
   ]
  },
  {
   "cell_type": "markdown",
   "id": "34753034-d550-4de5-a5f2-bfb31d10b0af",
   "metadata": {},
   "source": [
    "1) Mean:-\n",
    "It is the average of all the values\n",
    "\n",
    "2) Median :-\n",
    "Middle most element in sorted list\n",
    "\n",
    "3) Mode :-\n",
    "Element with highest frequency"
   ]
  },
  {
   "cell_type": "code",
   "execution_count": null,
   "id": "0421cfbd-01ab-43f6-91bd-8647abc0a7f3",
   "metadata": {},
   "outputs": [],
   "source": []
  },
  {
   "cell_type": "markdown",
   "id": "da7d14ac-2580-4098-890e-bb3e78b335d3",
   "metadata": {},
   "source": [
    "Q2. What is the difference between the mean, median, and mode? How are they used to measure the\n",
    "central tendency of a dataset?"
   ]
  },
  {
   "cell_type": "markdown",
   "id": "279ab9cf-ae6d-41e6-bc2e-47f0ceb69c48",
   "metadata": {},
   "source": [
    "1) Mean:-\n",
    "It is the average of all the values\n",
    "\n",
    "2) Median :-\n",
    "Middle most element in sorted list\n",
    "\n",
    "3) Mode :-\n",
    "Element with highest frequency\n",
    "\n",
    "These help in calculation for gausian curve and handle outliers."
   ]
  },
  {
   "cell_type": "code",
   "execution_count": null,
   "id": "43546b85-ff95-4be6-8481-36eb9196b79b",
   "metadata": {},
   "outputs": [],
   "source": []
  },
  {
   "cell_type": "markdown",
   "id": "fdbc8e8d-6be2-4e1f-91ae-1ab6be82b398",
   "metadata": {},
   "source": [
    "Q3. Measure the three measures of central tendency for the given height data:         \n",
    "[178,177,176,177,178.2,178,175,179,180,175,178.9,176.2,177,172.5,178,176.5]"
   ]
  },
  {
   "cell_type": "code",
   "execution_count": 5,
   "id": "459fc8c8-c794-479f-9d36-eb26ab827e85",
   "metadata": {},
   "outputs": [],
   "source": [
    "import numpy as np"
   ]
  },
  {
   "cell_type": "code",
   "execution_count": 6,
   "id": "97f68a97-8c2c-4e45-ab18-cc8e842341fe",
   "metadata": {},
   "outputs": [],
   "source": [
    "l = [178,177,176,177,178.2,178,175,179,180,175,178.9,176.2,177,172.5,178,176.5]"
   ]
  },
  {
   "cell_type": "code",
   "execution_count": 7,
   "id": "bc6aada9-c990-4c9b-b568-b24c592b91f7",
   "metadata": {},
   "outputs": [
    {
     "data": {
      "text/plain": [
       "177.01875"
      ]
     },
     "execution_count": 7,
     "metadata": {},
     "output_type": "execute_result"
    }
   ],
   "source": [
    "np.mean(l)"
   ]
  },
  {
   "cell_type": "code",
   "execution_count": 9,
   "id": "9220ea74-cddd-4f14-b18c-52aa5214b011",
   "metadata": {},
   "outputs": [
    {
     "data": {
      "text/plain": [
       "177.0"
      ]
     },
     "execution_count": 9,
     "metadata": {},
     "output_type": "execute_result"
    }
   ],
   "source": [
    "np.median(l)"
   ]
  },
  {
   "cell_type": "code",
   "execution_count": 18,
   "id": "b1275026-eff4-481e-bc0f-80556c764004",
   "metadata": {},
   "outputs": [],
   "source": [
    "from scipy import stats"
   ]
  },
  {
   "cell_type": "code",
   "execution_count": 19,
   "id": "f7e140f6-82f9-4425-af5c-9c9897cb3c11",
   "metadata": {},
   "outputs": [
    {
     "name": "stderr",
     "output_type": "stream",
     "text": [
      "/tmp/ipykernel_837/2919890712.py:1: FutureWarning: Unlike other reduction functions (e.g. `skew`, `kurtosis`), the default behavior of `mode` typically preserves the axis it acts along. In SciPy 1.11.0, this behavior will change: the default value of `keepdims` will become False, the `axis` over which the statistic is taken will be eliminated, and the value None will no longer be accepted. Set `keepdims` to True or False to avoid this warning.\n",
      "  stats.mode(l)\n"
     ]
    },
    {
     "data": {
      "text/plain": [
       "ModeResult(mode=array([177.]), count=array([3]))"
      ]
     },
     "execution_count": 19,
     "metadata": {},
     "output_type": "execute_result"
    }
   ],
   "source": [
    "stats.mode(l)"
   ]
  },
  {
   "cell_type": "markdown",
   "id": "313aec76-e9b5-48c3-9498-16528c6370e3",
   "metadata": {},
   "source": [
    "Q4. Find the standard deviation for the given data:          \n",
    "[178,177,176,177,178.2,178,175,179,180,175,178.9,176.2,177,172.5,178,176.5]"
   ]
  },
  {
   "cell_type": "code",
   "execution_count": 15,
   "id": "e285fd1b-7a87-4b08-bc09-a1caa10efcf3",
   "metadata": {},
   "outputs": [
    {
     "data": {
      "text/plain": [
       "1.7885814036548633"
      ]
     },
     "execution_count": 15,
     "metadata": {},
     "output_type": "execute_result"
    }
   ],
   "source": [
    "np.std(l)"
   ]
  },
  {
   "cell_type": "code",
   "execution_count": null,
   "id": "43a5224d-6e6b-4e2f-a010-a84bc8977436",
   "metadata": {},
   "outputs": [],
   "source": []
  },
  {
   "cell_type": "markdown",
   "id": "57a2d32f-ae33-45e9-abeb-923da1b39fcb",
   "metadata": {},
   "source": [
    "Q5. How are measures of dispersion such as range, variance, and standard deviation used to describe\n",
    "the spread of a dataset? Provide an example."
   ]
  },
  {
   "cell_type": "markdown",
   "id": "1542e2c6-4ec2-410f-8ce7-5e69166cb4b9",
   "metadata": {},
   "source": [
    "Measures of dispersion such as range, variance, and standard deviation are used to measure the spread of a dataset by quantifying how far the values are from the mean or average value. The standard deviation is the most commonly used measure of dispersion.\n",
    "Measures of dispersion such as range, variance, and standard deviation are used to measure the spread of a dataset by quantifying how far the values are from the mean or average value. The standard deviation is the most commonly used measure of dispersion."
   ]
  },
  {
   "cell_type": "code",
   "execution_count": null,
   "id": "3dd19df3-b2c0-40fc-998f-b21bec96b02e",
   "metadata": {},
   "outputs": [],
   "source": []
  },
  {
   "cell_type": "code",
   "execution_count": null,
   "id": "cec95dca-0cdf-4114-ae67-18d4ce9632dc",
   "metadata": {},
   "outputs": [],
   "source": []
  },
  {
   "cell_type": "markdown",
   "id": "fc0c9fdb-1e83-4f6e-a097-1d779dcb9a90",
   "metadata": {},
   "source": [
    "Q6. What is a Venn diagram?"
   ]
  },
  {
   "cell_type": "markdown",
   "id": "c705fc4c-9dae-4af3-9bb3-75e28090b866",
   "metadata": {},
   "source": [
    "A Venn diagram is a widely used diagram style that shows the logical relation between sets, popularized by John Venn (1834-1923) in the 1880s. The diagrams are used to teach elementary set theory, and to illustrate simple set relationships in probability, logic, statistics, linguistics and computer science."
   ]
  },
  {
   "cell_type": "code",
   "execution_count": null,
   "id": "dfd11c98-6773-40a0-8b21-a431a12fb637",
   "metadata": {},
   "outputs": [],
   "source": []
  },
  {
   "cell_type": "markdown",
   "id": "97925aa8-5a11-4c97-8f8f-9126b99bb983",
   "metadata": {},
   "source": [
    "Q7. For the two given sets A = (2,3,4,5,6,7) & B = (0,2,6,8,10). Find:            \n",
    "(i) A B           \n",
    "(ii) A ⋃ B"
   ]
  },
  {
   "cell_type": "markdown",
   "id": "22ea7bf8-d5cd-4fd3-8978-07101c4ce530",
   "metadata": {},
   "source": [
    "1) (2,6)\n",
    "2) (0,2,3,4,5,6,7,10)"
   ]
  },
  {
   "cell_type": "code",
   "execution_count": null,
   "id": "27ffe536-b067-4f50-8634-f96cab7845f9",
   "metadata": {},
   "outputs": [],
   "source": []
  },
  {
   "cell_type": "markdown",
   "id": "1cade19c-3c8a-4d2e-b227-a753fecb1413",
   "metadata": {},
   "source": [
    "Q8. What do you understand about skewness in data?"
   ]
  },
  {
   "cell_type": "markdown",
   "id": "5452a03f-37b8-426c-baf2-f81a290febb7",
   "metadata": {},
   "source": [
    "Skewness is a measure of the asymmetry of a distribution. A distribution is asymmetrical when its left and right side are not mirror images."
   ]
  },
  {
   "cell_type": "code",
   "execution_count": null,
   "id": "83a80017-6f86-4a5e-8d03-9424dfd4d92a",
   "metadata": {},
   "outputs": [],
   "source": []
  },
  {
   "cell_type": "markdown",
   "id": "a2eec05a-8d91-49c4-a91e-1232dfa12fd0",
   "metadata": {},
   "source": [
    "Q9. If a data is right skewed then what will be the position of median with respect to mean?"
   ]
  },
  {
   "cell_type": "markdown",
   "id": "e504f725-ebba-42b4-bfeb-f7908bb6486e",
   "metadata": {},
   "source": [
    "median will le less than mean, or left hand side in the chart."
   ]
  },
  {
   "cell_type": "code",
   "execution_count": null,
   "id": "b76d03e4-838e-492d-87c8-ced5903b0771",
   "metadata": {},
   "outputs": [],
   "source": []
  },
  {
   "cell_type": "markdown",
   "id": "7fc35b47-dab9-4f56-9d39-bc502386221d",
   "metadata": {},
   "source": [
    "Q10. Explain the difference between covariance and correlation. How are these measures used in\n",
    "statistical analysis?"
   ]
  },
  {
   "cell_type": "markdown",
   "id": "393052a3-f7b2-454b-8863-fddae8965f59",
   "metadata": {},
   "source": [
    "The key differences between covariance and correlation can be summarized as follows:\n",
    "\n",
    "1) Covariance measures whether a variation in one variable results in a variation in another variable; for example, looking at whether an increase in one variable results in an increase, decrease, or no change in the other variable. Correlation measures the direction as well as the strength of the relationship between two variables (i.e. how strongly these two variables are related to each other).          \n",
    "2) Covariance deals with the linear relationship of only two variables in the dataset, whereas correlation can involve two or multiple variables or data sets and their linear relationships.          \n",
    "3) Although both correlation coefficient and covariance are measures of linear association, correlation coefficients are standardized, therefore displaying an absolute value within a definite range from -1 to 1. On the other hand, covariance values are not standardized and use an indefinite range from -∞ to +∞ , which makes the interpretation of covariance a bit tricky.          \n",
    "4) Correlation is dimensionless, i.e. it is a unit-free measure of the relationship between variables. In contrast,  covariance is in units, which is formed by multiplying the unit of one variable by the unit of another variable.              \n",
    "5) Covariance is affected by the change in scale, i.e. if all the values of one variable are multiplied by a constant and all the values of another variable are multiplied by a similar or different constant, then the covariance is changed. Conversely, correlation is not affected by the change in scale."
   ]
  },
  {
   "cell_type": "code",
   "execution_count": null,
   "id": "8075684b-1bd1-4997-88e6-127051e992c1",
   "metadata": {},
   "outputs": [],
   "source": []
  },
  {
   "cell_type": "markdown",
   "id": "a14f60f2-6ef8-4d44-ac42-6a42e77cc775",
   "metadata": {},
   "source": [
    "Q11. What is the formula for calculating the sample mean? Provide an example calculation for a\n",
    "dataset."
   ]
  },
  {
   "cell_type": "markdown",
   "id": "fcd950e3-03d1-4b44-a49f-fc58d5df2a5e",
   "metadata": {},
   "source": [
    "Sample Mean = (Sum of terms) ÷ (Number of Terms) "
   ]
  },
  {
   "cell_type": "code",
   "execution_count": 17,
   "id": "ded36403-1a71-440d-ba1a-cca78270ee1a",
   "metadata": {},
   "outputs": [
    {
     "name": "stdout",
     "output_type": "stream",
     "text": [
      "5.0\n"
     ]
    }
   ],
   "source": [
    "#Example:-\n",
    "a = [1,2,3,4,5,6,7,8,9]\n",
    "p = 0\n",
    "for i in a:\n",
    "    p+=i\n",
    "mean = p/len(a)\n",
    "print(mean)"
   ]
  },
  {
   "cell_type": "code",
   "execution_count": null,
   "id": "edbdaf86-0d13-45a6-ae8b-94165a6d599a",
   "metadata": {},
   "outputs": [],
   "source": []
  },
  {
   "cell_type": "markdown",
   "id": "7b317b70-e853-466e-abc4-b340947d95f0",
   "metadata": {},
   "source": [
    "Q12. For a normal distribution data what is the relationship between its measure of central tendency?"
   ]
  },
  {
   "cell_type": "markdown",
   "id": "d00a74cb-a54f-4f1c-b525-908d89a952ad",
   "metadata": {},
   "source": [
    "Measures of central tendency is used to calculate variance and standared deviation."
   ]
  },
  {
   "cell_type": "code",
   "execution_count": null,
   "id": "1a655477-eb36-40d3-8cca-3ede4efeab7b",
   "metadata": {},
   "outputs": [],
   "source": []
  },
  {
   "cell_type": "markdown",
   "id": "a17d6e42-ce74-4450-8a6c-dd46144f4ad4",
   "metadata": {},
   "source": [
    "Q13. How is covariance different from correlation?"
   ]
  },
  {
   "cell_type": "markdown",
   "id": "43e0f873-6bdb-4ba0-9d4f-c5453706f325",
   "metadata": {},
   "source": [
    "The key differences between covariance and correlation can be summarized as follows:\n",
    "\n",
    "1) Covariance measures whether a variation in one variable results in a variation in another variable; for example, looking at whether an increase in one variable results in an increase, decrease, or no change in the other variable. Correlation measures the direction as well as the strength of the relationship between two variables (i.e. how strongly these two variables are related to each other).          \n",
    "2) Covariance deals with the linear relationship of only two variables in the dataset, whereas correlation can involve two or multiple variables or data sets and their linear relationships.          \n",
    "3) Although both correlation coefficient and covariance are measures of linear association, correlation coefficients are standardized, therefore displaying an absolute value within a definite range from -1 to 1. On the other hand, covariance values are not standardized and use an indefinite range from -∞ to +∞ , which makes the interpretation of covariance a bit tricky.          \n",
    "4) Correlation is dimensionless, i.e. it is a unit-free measure of the relationship between variables. In contrast,  covariance is in units, which is formed by multiplying the unit of one variable by the unit of another variable.              \n",
    "5) Covariance is affected by the change in scale, i.e. if all the values of one variable are multiplied by a constant and all the values of another variable are multiplied by a similar or different constant, then the covariance is changed. Conversely, correlation is not affected by the change in scale."
   ]
  },
  {
   "cell_type": "code",
   "execution_count": null,
   "id": "3bc9df3d-3df4-47ef-a8cd-6d6c5bb7e129",
   "metadata": {},
   "outputs": [],
   "source": []
  },
  {
   "cell_type": "markdown",
   "id": "901f8ae9-b11d-4f60-85ab-2ca559df76ee",
   "metadata": {},
   "source": [
    "Q14. How do outliers affect measures of central tendency and dispersion? Provide an example."
   ]
  },
  {
   "cell_type": "markdown",
   "id": "03b56c8a-5625-4075-a67d-454d94b3732b",
   "metadata": {},
   "source": [
    "When a outlier is present it can effect the shape of the graph, if we have outliers to the right of the graph. These outliers are causing the mean to increase, but if we have outliers to the left of the graph these outliers are dragging down the mean. This causes a conflict because the mean no longer provides a good representation of the data, alternatively we would much rather use the median. The median on the other hand is less likely to be affect by outliers."
   ]
  },
  {
   "cell_type": "markdown",
   "id": "ca97d465-4dd2-4f27-a3d3-0a26c9661456",
   "metadata": {},
   "source": [
    "#Example:-      \n",
    "x = [1,2,3,4,5]         \n",
    "mean = 3         \n",
    "median = 3           \n",
    "\n",
    "x_new = [1,2,3,4,5,100]        \n",
    "mean_new = 19          \n",
    "median_new = 3.5       \n",
    "\n",
    "As mean changes too much but median doesen't change too much due to th eoutlire."
   ]
  },
  {
   "cell_type": "code",
   "execution_count": null,
   "id": "08629549-637c-415d-9588-66b5cef23397",
   "metadata": {},
   "outputs": [],
   "source": []
  }
 ],
 "metadata": {
  "kernelspec": {
   "display_name": "Python 3 (ipykernel)",
   "language": "python",
   "name": "python3"
  },
  "language_info": {
   "codemirror_mode": {
    "name": "ipython",
    "version": 3
   },
   "file_extension": ".py",
   "mimetype": "text/x-python",
   "name": "python",
   "nbconvert_exporter": "python",
   "pygments_lexer": "ipython3",
   "version": "3.10.8"
  }
 },
 "nbformat": 4,
 "nbformat_minor": 5
}
